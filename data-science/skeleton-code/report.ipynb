{
 "cells": [
  {
   "cell_type": "markdown",
   "metadata": {},
   "source": [
    "# Phase 3 Data Science Report"
   ]
  },
  {
   "cell_type": "markdown",
   "metadata": {},
   "source": [
    "# Introduction"
   ]
  },
  {
   "cell_type": "markdown",
   "metadata": {},
   "source": []
  },
  {
   "cell_type": "markdown",
   "metadata": {},
   "source": [
    "# Model Process"
   ]
  },
  {
   "cell_type": "markdown",
   "metadata": {},
   "source": [
    "I used a sequential model.\n",
    "The optimizers I used keras Tuner to choose the best optimisers to use for my particular model. Using SparseCategoricalCrossentropy as the labels are expected to be integers."
   ]
  },
  {
   "cell_type": "markdown",
   "metadata": {},
   "source": [
    "# Model Performance"
   ]
  },
  {
   "cell_type": "markdown",
   "metadata": {},
   "source": [
    "313/313 - 2s - loss: 1.3412 - accuracy: 0.5204 - 2s/epoch - 6ms/step\n",
    "Model: \"sequential_4\"\n",
    "_________________________________________________________________\n",
    " Layer (type)                Output Shape              Param #   \n",
    "=================================================================\n",
    " flatten_4 (Flatten)         (None, 3072)              0         \n",
    "                                                                 \n",
    " dense_10 (Dense)            (None, 256)               786688    \n",
    "                                                                 \n",
    " dropout_4 (Dropout)         (None, 256)               0         \n",
    "                                                                 \n",
    " dense_11 (Dense)            (None, 1000)              257000    \n",
    "                                                                 \n",
    " dense_12 (Dense)            (None, 4000)              4004000   \n",
    "                                                                 \n",
    "=================================================================\n",
    "Total params: 5,047,688\n",
    "Trainable params: 5,047,688\n",
    "Non-trainable params: 0\n",
    "_________________________________________________________________\n",
    "1250/1250 [==============================] - 48s 38ms/step - loss: 1.2632 - accuracy: 0.5529 - val_loss: 1.3606 - val_accuracy: 0.5239\n",
    "\n",
    "The model has an accuracy of 0.52, meaning it has a 52% accuracy. x\n",
    "The validation accuracy and accuracy only differ by 3%, currently the model is predicting the training set better than the test set, if this accuracy gap grew wider it could mean overfitting however at the moment this is not an issue. \n",
    "Same can be said for loss, where there is a similar amount of wrong guesses made by the model."
   ]
  },
  {
   "cell_type": "markdown",
   "metadata": {},
   "source": [
    "# Conclusion"
   ]
  },
  {
   "cell_type": "markdown",
   "metadata": {},
   "source": []
  },
  {
   "cell_type": "markdown",
   "metadata": {},
   "source": [
    "# References\n",
    "\n",
    "1. [Learning Multiple Layers of Features from Tiny Images](http://www.cs.toronto.edu/~kriz/learning-features-2009-TR.pdf), Alex Krizhevsky, 2009."
   ]
  }
 ],
 "metadata": {
  "kernelspec": {
   "display_name": "Python 3.9.13 64-bit (microsoft store)",
   "language": "python",
   "name": "python3"
  },
  "language_info": {
   "name": "python",
   "version": "3.9.13"
  },
  "orig_nbformat": 4,
  "vscode": {
   "interpreter": {
    "hash": "5f6b5895971cbb974bbd79dfb304828ed1980b71dc4b82f2c819fcd85078a2f0"
   }
  }
 },
 "nbformat": 4,
 "nbformat_minor": 2
}
